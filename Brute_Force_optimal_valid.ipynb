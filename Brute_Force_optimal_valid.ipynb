{
 "cells": [
  {
   "cell_type": "code",
   "execution_count": 1,
   "metadata": {},
   "outputs": [],
   "source": [
    "import snap\n",
    "from graphviz import Digraph\n",
    "import time"
   ]
  },
  {
   "cell_type": "code",
   "execution_count": 2,
   "metadata": {},
   "outputs": [],
   "source": [
    "# G1 = snap.TUNGraph.New()\n",
    "# G1.AddNode(0)\n",
    "# G1.AddNode(1)\n",
    "# G1.AddNode(2)\n",
    "# G1.AddNode(3)\n",
    "# G1.AddNode(4)\n",
    "# G1.AddNode(5)\n",
    "# G1.AddNode(6)\n",
    "# G1.AddNode(7)\n",
    "# G1.AddNode(8)\n",
    "# G1.AddNode(9)\n",
    "# G1.AddNode(10)\n",
    "# G1.AddEdge(0,1)\n",
    "# G1.AddEdge(0,2)\n",
    "# G1.AddEdge(2,3)\n",
    "# G1.AddEdge(1,3)\n",
    "# G1.AddEdge(3,4)\n",
    "# G1.AddEdge(4,5)\n",
    "# G1.AddEdge(4,6)\n",
    "# G1.AddEdge(0,7)\n",
    "# G1.AddEdge(7,8)\n",
    "# G1.AddEdge(7,9)\n",
    "# G1.AddEdge(9,10)\n",
    "# G1"
   ]
  },
  {
   "cell_type": "code",
   "execution_count": 3,
   "metadata": {},
   "outputs": [],
   "source": [
    "# G1 = snap.TUNGraph.New()\n",
    "# G1.AddNode(0)\n",
    "# G1.AddNode(1)\n",
    "# G1.AddNode(2)\n",
    "# G1.AddNode(3)\n",
    "# G1.AddNode(4)\n",
    "# G1.AddNode(5)\n",
    "# G1.AddNode(6)\n",
    "# G1.AddNode(7)\n",
    "# G1.AddNode(8)\n",
    "# G1.AddNode(9)\n",
    "# G1.AddNode(10)\n",
    "# G1.AddNode(11)\n",
    "# G1.AddNode(12)\n",
    "# G1.AddNode(13)\n",
    "# G1.AddNode(14)\n",
    "# G1.AddEdge(0,1)\n",
    "# G1.AddEdge(0,2)\n",
    "# G1.AddEdge(2,3)\n",
    "# G1.AddEdge(1,3)\n",
    "# G1.AddEdge(3,4)\n",
    "# G1.AddEdge(4,5)\n",
    "# G1.AddEdge(4,6)\n",
    "# G1.AddEdge(0,7)\n",
    "# G1.AddEdge(7,8)\n",
    "# G1.AddEdge(7,9)\n",
    "# G1.AddEdge(9,10)\n",
    "# G1.AddEdge(0,11)\n",
    "# G1.AddEdge(11,12)\n",
    "# G1.AddEdge(11,13)\n",
    "# G1.AddEdge(13,14)\n",
    "# G1"
   ]
  },
  {
   "cell_type": "code",
   "execution_count": 4,
   "metadata": {},
   "outputs": [],
   "source": [
    "# G1 = snap.GenRndGnm(snap.TUNGraph, 22, 60) #random graph\n",
    "#G1 = snap.GenFull(snap.TUNGraph, 4) #complete graph 最佳解都會是保護1個點\n",
    "#G1 = snap.GenGrid(snap.TUNGraph, 3, 3, False) #Grid graph N8M\n",
    "#G1 = snap.GenStar(snap.TUNGraph, 5, False) #star topology 最佳解都會是保護1個點\n",
    "#G1 = snap.GenTree(snap.TUNGraph, 3, 2) #Tree graph (Number of children and level)"
   ]
  },
  {
   "cell_type": "code",
   "execution_count": 5,
   "metadata": {},
   "outputs": [],
   "source": [
    "#匯出檔案\n",
    "# snap.SaveEdgeList(G1, \"graph.txt\", \"Save as tab-separated list of edges\")"
   ]
  },
  {
   "cell_type": "code",
   "execution_count": 6,
   "metadata": {},
   "outputs": [],
   "source": [
    "#匯入圖\n",
    "G1 = snap.LoadEdgeList(snap.TUNGraph, \"graph.txt\", 0, 1)\n",
    "start_time = time.time()"
   ]
  },
  {
   "cell_type": "code",
   "execution_count": 7,
   "metadata": {},
   "outputs": [
    {
     "name": "stdout",
     "output_type": "stream",
     "text": [
      "lonely_node =  []\n"
     ]
    }
   ],
   "source": [
    "#刪除孤單的點\n",
    "lonely_node = []\n",
    "for NI in G1.Nodes():\n",
    "    if NI.GetOutDeg()==0:\n",
    "        lonely_node.append(NI.GetId())\n",
    "        G1.DelNode(NI.GetId())\n",
    "\n",
    "print(\"lonely_node = \",lonely_node)"
   ]
  },
  {
   "cell_type": "code",
   "execution_count": 8,
   "metadata": {},
   "outputs": [],
   "source": [
    "# output 圖片 !!!!Data大容易跑很久!!!!\n",
    "# labels = {}\n",
    "# for NI in G1.Nodes():\n",
    "#         labels[NI.GetId()] = str(NI.GetId())\n",
    "# G1.DrawGViz(snap.gvlDot, \"Brute_Force_optimal_valid.png\", \" \", labels)"
   ]
  },
  {
   "cell_type": "code",
   "execution_count": 9,
   "metadata": {},
   "outputs": [
    {
     "name": "stdout",
     "output_type": "stream",
     "text": [
      "node: 0\n",
      "node: 5\n",
      "node: 7\n",
      "node: 13\n",
      "node: 1\n",
      "node: 8\n",
      "node: 9\n",
      "node: 28\n",
      "node: 2\n",
      "node: 10\n",
      "node: 12\n",
      "node: 3\n",
      "node: 19\n",
      "node: 20\n",
      "node: 4\n",
      "node: 15\n",
      "node: 17\n",
      "node: 22\n",
      "node: 29\n",
      "node: 6\n",
      "node: 23\n",
      "node: 24\n",
      "node: 26\n",
      "node: 27\n",
      "node: 11\n",
      "node: 14\n",
      "node: 18\n",
      "node: 21\n",
      "node: 25\n",
      "node: 16\n"
     ]
    }
   ],
   "source": [
    "AllnodeID = [] #全部的node\n",
    "InfectednodeID = [0]\n",
    "vulnerablenodeID = []\n",
    "vaccinatednodeID = [] #vaccinated的node\n",
    "# inf_plus_vul_minus_zero = []\n",
    "for NI in G1.Nodes():\n",
    "    AllnodeID.append(NI.GetId())\n",
    "    if(NI.GetId()!=0):\n",
    "        vulnerablenodeID.append(NI.GetId())\n",
    "    print(\"node: %d\" % NI.GetId())"
   ]
  },
  {
   "cell_type": "code",
   "execution_count": 10,
   "metadata": {},
   "outputs": [
    {
     "data": {
      "text/plain": [
       "4"
      ]
     },
     "execution_count": 10,
     "metadata": {},
     "output_type": "execute_result"
    }
   ],
   "source": [
    "#計算圖的層數\n",
    "layer = 0\n",
    "for NI in G1.Nodes():\n",
    "    if(G1.GetShortPath(NI.GetId(),0)>layer):\n",
    "        layer = G1.GetShortPath(NI.GetId(),0)\n",
    "layer"
   ]
  },
  {
   "cell_type": "code",
   "execution_count": 11,
   "metadata": {},
   "outputs": [
    {
     "data": {
      "text/plain": [
       "[5,\n",
       " 7,\n",
       " 13,\n",
       " 1,\n",
       " 8,\n",
       " 9,\n",
       " 28,\n",
       " 2,\n",
       " 10,\n",
       " 12,\n",
       " 3,\n",
       " 19,\n",
       " 20,\n",
       " 4,\n",
       " 15,\n",
       " 17,\n",
       " 22,\n",
       " 29,\n",
       " 6,\n",
       " 23,\n",
       " 24,\n",
       " 26,\n",
       " 27,\n",
       " 11,\n",
       " 14,\n",
       " 18,\n",
       " 21,\n",
       " 25,\n",
       " 16]"
      ]
     },
     "execution_count": 11,
     "metadata": {},
     "output_type": "execute_result"
    }
   ],
   "source": [
    "vulnerablenodeID"
   ]
  },
  {
   "cell_type": "code",
   "execution_count": 12,
   "metadata": {},
   "outputs": [],
   "source": [
    "import itertools #算排列組合\n",
    "inp_list = vulnerablenodeID\n",
    "permutations = list(itertools.permutations(inp_list,r=layer))"
   ]
  },
  {
   "cell_type": "code",
   "execution_count": 13,
   "metadata": {},
   "outputs": [
    {
     "name": "stdout",
     "output_type": "stream",
     "text": [
      "570024\n",
      "4\n"
     ]
    }
   ],
   "source": [
    "print(len(permutations))\n",
    "print(len(permutations[1]))"
   ]
  },
  {
   "cell_type": "code",
   "execution_count": 14,
   "metadata": {},
   "outputs": [],
   "source": [
    "# permutations"
   ]
  },
  {
   "cell_type": "code",
   "execution_count": 15,
   "metadata": {},
   "outputs": [],
   "source": [
    "# permutations[0][3]"
   ]
  },
  {
   "cell_type": "code",
   "execution_count": 16,
   "metadata": {},
   "outputs": [],
   "source": [
    "def copy_graph(graph):\n",
    "    tmpfile = '.copy.bin'\n",
    "\n",
    "    # Saving to tmp file\n",
    "    FOut = snap.TFOut(tmpfile)\n",
    "    graph.Save(FOut)\n",
    "    FOut.Flush()\n",
    "\n",
    "    # Loading to new graph\n",
    "    FIn = snap.TFIn(tmpfile)\n",
    "    graphtype = type(graph)\n",
    "    new_graph = graphtype.New()\n",
    "    new_graph = new_graph.Load(FIn)\n",
    "\n",
    "    return new_graph"
   ]
  },
  {
   "cell_type": "code",
   "execution_count": 17,
   "metadata": {},
   "outputs": [],
   "source": [
    "saved = []\n",
    "save_node = []\n",
    "S = 0 #初始感染的點\n",
    "for i in range(len(permutations)):#全部的排列\n",
    "    G_temp = copy_graph(G1)\n",
    "    temp_vaccinated = []\n",
    "    temp_infected = [0]\n",
    "    temp_vulnerable = vulnerablenodeID.copy()\n",
    "\n",
    "    for j in range(len(permutations[i])): #依順序注射疫苗\n",
    "        temp_saved = []\n",
    "\n",
    "        b = temp_vulnerable.copy()\n",
    "        if(permutations[i][j] not in temp_vulnerable): #如果要注射的點已經被保護了(從圖中刪除)\n",
    "            for n in range(len(b)):\n",
    "                if(G_temp.GetShortPath(S,b[n])==j+1):#病毒開始擴散\n",
    "                    temp_infected.append(b[n])\n",
    "                    temp_vulnerable.remove(b[n])\n",
    "\n",
    "            continue\n",
    "        for k in range(len(temp_vulnerable)):#每一個點計算是否有被注射的點保護\n",
    "#             if(j==0):\n",
    "#                 r = 1\n",
    "#             else:\n",
    "#                 r = j\n",
    "            r  = j+1\n",
    "\n",
    "            if(r<=(G_temp.GetShortPath(S,temp_vulnerable[k])-G_temp.GetShortPath(permutations[i][j],temp_vulnerable[k]))):\n",
    "                temp_saved.append(temp_vulnerable[k])\n",
    "\n",
    "                \n",
    "        for m in range(len(temp_saved)): #調整位置\n",
    "            temp_vaccinated.append(temp_saved[m])\n",
    "            temp_vulnerable.remove(temp_saved[m])\n",
    "            G_temp.DelNode(temp_saved[m])\n",
    "            \n",
    "        a = temp_vulnerable.copy()\n",
    "        for n in range(len(a)):#病毒開始擴散\n",
    "            if(G_temp.GetShortPath(S,a[n])==j+1):\n",
    "                temp_infected.append(a[n])\n",
    "                temp_vulnerable.remove(a[n])\n",
    "\n",
    "    save_node.append(temp_vaccinated)\n",
    "    saved.append(len(temp_vaccinated))\n",
    "                   "
   ]
  },
  {
   "cell_type": "code",
   "execution_count": 18,
   "metadata": {},
   "outputs": [],
   "source": [
    "end_time = time.time()"
   ]
  },
  {
   "cell_type": "code",
   "execution_count": 19,
   "metadata": {},
   "outputs": [
    {
     "name": "stdout",
     "output_type": "stream",
     "text": [
      "最佳策略= (7, 15, 9, 5)\n",
      "保護個數= 20\n",
      "被保護的點= [7, 1, 8, 28, 2, 10, 12, 3, 19, 20, 23, 24, 26, 27, 21, 16, 4, 15, 14, 9]\n",
      "計算時間= 2526.7300589084625 sec\n"
     ]
    }
   ],
   "source": [
    "print(\"最佳策略=\",permutations[saved.index(max(saved))])\n",
    "print(\"保護個數=\",max(saved))\n",
    "print(\"被保護的點=\",save_node[saved.index(max(saved))])\n",
    "print(\"計算時間=\",end_time-start_time,\"sec\")"
   ]
  },
  {
   "cell_type": "code",
   "execution_count": null,
   "metadata": {},
   "outputs": [],
   "source": []
  }
 ],
 "metadata": {
  "kernelspec": {
   "display_name": "Python 3",
   "language": "python",
   "name": "python3"
  },
  "language_info": {
   "codemirror_mode": {
    "name": "ipython",
    "version": 3
   },
   "file_extension": ".py",
   "mimetype": "text/x-python",
   "name": "python",
   "nbconvert_exporter": "python",
   "pygments_lexer": "ipython3",
   "version": "3.7.6"
  }
 },
 "nbformat": 4,
 "nbformat_minor": 4
}
