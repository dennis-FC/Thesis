{
 "cells": [
  {
   "cell_type": "code",
   "execution_count": 1,
   "metadata": {},
   "outputs": [],
   "source": [
    "from gurobipy import *\n",
    "import snap\n",
    "from graphviz import Digraph\n",
    "import pandas as pd\n",
    "import numpy as np"
   ]
  },
  {
   "cell_type": "code",
   "execution_count": 2,
   "metadata": {},
   "outputs": [],
   "source": [
    "# G1 = snap.TUNGraph.New()\n",
    "# G1.AddNode(0)\n",
    "# G1.AddNode(1)\n",
    "# G1.AddNode(2)\n",
    "# G1.AddNode(3)\n",
    "# G1.AddNode(4)\n",
    "# G1.AddNode(5)\n",
    "# G1.AddNode(6)\n",
    "# G1.AddNode(7)\n",
    "# G1.AddEdge(0,1)\n",
    "# G1.AddEdge(0,2)\n",
    "# G1.AddEdge(1,3)\n",
    "# G1.AddEdge(2,3)\n",
    "# G1.AddEdge(3,4)\n",
    "# G1.AddEdge(0,5)\n",
    "# G1.AddEdge(5,6)\n",
    "# G1.AddEdge(5,7)\n",
    "# G1"
   ]
  },
  {
   "cell_type": "code",
   "execution_count": 3,
   "metadata": {},
   "outputs": [],
   "source": [
    "# G1 = snap.GenRndGnm(snap.TUNGraph, 350, 900)\n",
    "\n",
    "# G1 = snap.LoadEdgeList(snap.TUNGraph, \"socfb-Haverford76.txt\", 0, 1) #facebook social network(1446,59589)\n",
    "# G1 = snap.LoadEdgeList(snap.TUNGraph, \"tech-routers-rf.txt\", 0, 1) #Router Network(2113,6632)\n",
    "G1 = snap.LoadEdgeList(snap.TUNGraph, \"fb-pages-tvshow_edges.txt\", 0, 1) #blue verified facebook pages(3891,17262)"
   ]
  },
  {
   "cell_type": "code",
   "execution_count": 4,
   "metadata": {},
   "outputs": [],
   "source": [
    "# output 圖片 !!!!Data大容易跑很久!!!!\n",
    "# labels = {}\n",
    "# for NI in G1.Nodes():\n",
    "#         labels[NI.GetId()] = str(NI.GetId())\n",
    "# G1.DrawGViz(snap.gvlDot, \"graph.png\", \" \", labels)"
   ]
  },
  {
   "cell_type": "code",
   "execution_count": 5,
   "metadata": {},
   "outputs": [],
   "source": [
    "#匯出檔案\n",
    "snap.SaveEdgeList(G1, \"graph.txt\", \"Save as tab-separated list of edges\")"
   ]
  },
  {
   "cell_type": "code",
   "execution_count": null,
   "metadata": {},
   "outputs": [],
   "source": []
  }
 ],
 "metadata": {
  "kernelspec": {
   "display_name": "Python 3",
   "language": "python",
   "name": "python3"
  },
  "language_info": {
   "codemirror_mode": {
    "name": "ipython",
    "version": 3
   },
   "file_extension": ".py",
   "mimetype": "text/x-python",
   "name": "python",
   "nbconvert_exporter": "python",
   "pygments_lexer": "ipython3",
   "version": "3.7.6"
  }
 },
 "nbformat": 4,
 "nbformat_minor": 4
}
