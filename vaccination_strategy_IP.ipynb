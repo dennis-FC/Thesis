{
 "cells": [
  {
   "cell_type": "code",
   "execution_count": 1,
   "metadata": {},
   "outputs": [],
   "source": [
    "from gurobipy import *\n",
    "import snap\n",
    "from graphviz import Digraph\n",
    "import pandas as pd\n",
    "import numpy as np"
   ]
  },
  {
   "cell_type": "code",
   "execution_count": 2,
   "metadata": {},
   "outputs": [],
   "source": [
    "# G1 = snap.TUNGraph.New()\n",
    "# G1.AddNode(0)\n",
    "# G1.AddNode(1)\n",
    "# G1.AddNode(2)\n",
    "# G1.AddNode(3)\n",
    "# G1.AddNode(4)\n",
    "# G1.AddNode(5)\n",
    "# G1.AddNode(6)\n",
    "# G1.AddNode(7)\n",
    "# G1.AddNode(8)\n",
    "# G1.AddNode(9)\n",
    "# G1.AddNode(10)\n",
    "# G1.AddEdge(0,1)\n",
    "# G1.AddEdge(0,2)\n",
    "# G1.AddEdge(2,3)\n",
    "# G1.AddEdge(1,3)\n",
    "# G1.AddEdge(3,4)\n",
    "# G1.AddEdge(4,5)\n",
    "# G1.AddEdge(4,6)\n",
    "# G1.AddEdge(0,7)\n",
    "# G1.AddEdge(7,8)\n",
    "# G1.AddEdge(7,9)\n",
    "# G1.AddEdge(9,10)\n",
    "# G1"
   ]
  },
  {
   "cell_type": "code",
   "execution_count": 3,
   "metadata": {},
   "outputs": [
    {
     "data": {
      "text/plain": [
       "<snap.PUNGraph; proxy of <Swig Object of type 'PUNGraph *' at 0x000002B1FC55FB70> >"
      ]
     },
     "execution_count": 3,
     "metadata": {},
     "output_type": "execute_result"
    }
   ],
   "source": [
    "G1 = snap.TUNGraph.New()\n",
    "G1.AddNode(0)\n",
    "G1.AddNode(1)\n",
    "G1.AddNode(2)\n",
    "G1.AddNode(3)\n",
    "G1.AddNode(4)\n",
    "G1.AddNode(5)\n",
    "G1.AddNode(6)\n",
    "G1.AddNode(7)\n",
    "G1.AddNode(8)\n",
    "G1.AddNode(9)\n",
    "G1.AddNode(10)\n",
    "G1.AddNode(11)\n",
    "G1.AddNode(12)\n",
    "G1.AddNode(13)\n",
    "G1.AddNode(14)\n",
    "G1.AddEdge(0,1)\n",
    "G1.AddEdge(0,2)\n",
    "G1.AddEdge(2,3)\n",
    "G1.AddEdge(1,3)\n",
    "G1.AddEdge(3,4)\n",
    "G1.AddEdge(4,5)\n",
    "G1.AddEdge(4,6)\n",
    "G1.AddEdge(0,7)\n",
    "G1.AddEdge(7,8)\n",
    "G1.AddEdge(7,9)\n",
    "G1.AddEdge(9,10)\n",
    "G1.AddEdge(0,11)\n",
    "G1.AddEdge(11,12)\n",
    "G1.AddEdge(11,13)\n",
    "G1.AddEdge(13,14)\n",
    "G1"
   ]
  },
  {
   "cell_type": "code",
   "execution_count": 4,
   "metadata": {},
   "outputs": [],
   "source": [
    "# G1 = snap.GenRndGnm(snap.TUNGraph, 500, 1500)"
   ]
  },
  {
   "cell_type": "code",
   "execution_count": 5,
   "metadata": {},
   "outputs": [],
   "source": [
    "#匯出圖片\n",
    "# snap.SaveEdgeList(G1, \"IP_graph.txt\", \"Save as tab-separated list of edges\")"
   ]
  },
  {
   "cell_type": "code",
   "execution_count": 6,
   "metadata": {},
   "outputs": [],
   "source": [
    "# f = open('fb-pages-tvshow_edges.txt', 'rt')\n",
    "# fout = open(\"out.txt\", \"wt\")\n",
    "# for i in f:\n",
    "#     fout.write(i.replace(',', ' '))\n",
    "# f.close()\n",
    "# fout.close()"
   ]
  },
  {
   "cell_type": "code",
   "execution_count": 7,
   "metadata": {},
   "outputs": [],
   "source": [
    "#匯入檔案\n",
    "# G1 = snap.LoadEdgeList(snap.TUNGraph, \"fb-pages-tvshow_edges.txt\", 0, 1)"
   ]
  },
  {
   "cell_type": "code",
   "execution_count": 8,
   "metadata": {},
   "outputs": [
    {
     "name": "stdout",
     "output_type": "stream",
     "text": [
      "lonely_node =  []\n"
     ]
    }
   ],
   "source": [
    "#刪除孤單的點\n",
    "lonely_node = []\n",
    "for NI in G1.Nodes():\n",
    "    if NI.GetOutDeg()==0:\n",
    "        lonely_node.append(NI.GetId())\n",
    "        G1.DelNode(NI.GetId())\n",
    "\n",
    "print(\"lonely_node = \",lonely_node)"
   ]
  },
  {
   "cell_type": "code",
   "execution_count": 9,
   "metadata": {},
   "outputs": [],
   "source": [
    "# output 圖片 !!!!Data大容易跑很久!!!!\n",
    "# labels = {}\n",
    "# for NI in G1.Nodes():\n",
    "#         labels[NI.GetId()] = str(NI.GetId())\n",
    "# G1.DrawGViz(snap.gvlDot, \"vaccination.png\", \" \", labels)"
   ]
  },
  {
   "cell_type": "code",
   "execution_count": 10,
   "metadata": {},
   "outputs": [],
   "source": [
    "AllnodeID = []\n",
    "V = [] #AllnodeID\\0(s)\n",
    "for NI in G1.Nodes():\n",
    "    AllnodeID.append(NI.GetId())\n",
    "    if(NI.GetId()!=0):\n",
    "        V.append(NI.GetId())"
   ]
  },
  {
   "cell_type": "code",
   "execution_count": 11,
   "metadata": {},
   "outputs": [],
   "source": [
    "# V"
   ]
  },
  {
   "cell_type": "code",
   "execution_count": 12,
   "metadata": {},
   "outputs": [
    {
     "data": {
      "text/plain": [
       "4"
      ]
     },
     "execution_count": 12,
     "metadata": {},
     "output_type": "execute_result"
    }
   ],
   "source": [
    "layer = 0\n",
    "for NI in G1.Nodes():\n",
    "    if(G1.GetShortPath(NI.GetId(),0)>layer):\n",
    "        layer = G1.GetShortPath(NI.GetId(),0)\n",
    "layer"
   ]
  },
  {
   "cell_type": "code",
   "execution_count": 13,
   "metadata": {},
   "outputs": [
    {
     "name": "stdout",
     "output_type": "stream",
     "text": [
      "Academic license - for non-commercial use only - expires 2021-07-24\n",
      "Using license file C:\\Users\\user\\gurobi.lic\n"
     ]
    },
    {
     "data": {
      "text/plain": [
       "{1: <gurobi.Constr *Awaiting Model Update*>,\n",
       " 2: <gurobi.Constr *Awaiting Model Update*>,\n",
       " 3: <gurobi.Constr *Awaiting Model Update*>,\n",
       " 4: <gurobi.Constr *Awaiting Model Update*>}"
      ]
     },
     "execution_count": 13,
     "metadata": {},
     "output_type": "execute_result"
    }
   ],
   "source": [
    "B = 1 #budget\n",
    "S = 0 #初始感染點\n",
    "#Create empty model\n",
    "model = Model('Vaccination Strategy')\n",
    "\n",
    "#add variablies\n",
    "#S = model.addVars([(u,t) for u in V for t in range(1,layer+1)],vtype=GRB.BINARY, name=\"S\")\n",
    "X = model.addVars([(u,t) for u in V for t in range(1,layer+1) ],vtype=GRB.BINARY, name=\"X\")\n",
    "Y = model.addVars([(v) for v in V],vtype=GRB.BINARY, name=\"Y\")\n",
    "\n",
    "#add objective function\n",
    "# obj = 0\n",
    "# for v in V:\n",
    "#     obj = obj+Y[v]\n",
    "model.setObjective(quicksum(Y[v] for v in V) ,GRB.MAXIMIZE)\n",
    "\n",
    "#constraint 1\n",
    "model.addConstrs(quicksum(X[u,t] for u in V)<=B for t in range(1,layer+1))"
   ]
  },
  {
   "cell_type": "code",
   "execution_count": 14,
   "metadata": {},
   "outputs": [],
   "source": [
    "#constraint 2\n",
    "# model.addConstrs(quicksum(X[u,t] for t in range(1,layer+1))<=1 for u in V)  "
   ]
  },
  {
   "cell_type": "code",
   "execution_count": 15,
   "metadata": {},
   "outputs": [],
   "source": [
    "#constraint 3\n",
    "#model.addConstrs(quicksum(Y[v] for v in V)==S[u,t] for u in V for t in range(1,layer+1))"
   ]
  },
  {
   "cell_type": "code",
   "execution_count": 16,
   "metadata": {},
   "outputs": [
    {
     "data": {
      "text/plain": [
       "{1: <gurobi.Constr *Awaiting Model Update*>,\n",
       " 2: <gurobi.Constr *Awaiting Model Update*>,\n",
       " 3: <gurobi.Constr *Awaiting Model Update*>,\n",
       " 4: <gurobi.Constr *Awaiting Model Update*>,\n",
       " 5: <gurobi.Constr *Awaiting Model Update*>,\n",
       " 6: <gurobi.Constr *Awaiting Model Update*>,\n",
       " 7: <gurobi.Constr *Awaiting Model Update*>,\n",
       " 8: <gurobi.Constr *Awaiting Model Update*>,\n",
       " 9: <gurobi.Constr *Awaiting Model Update*>,\n",
       " 10: <gurobi.Constr *Awaiting Model Update*>,\n",
       " 11: <gurobi.Constr *Awaiting Model Update*>,\n",
       " 12: <gurobi.Constr *Awaiting Model Update*>,\n",
       " 13: <gurobi.Constr *Awaiting Model Update*>,\n",
       " 14: <gurobi.Constr *Awaiting Model Update*>}"
      ]
     },
     "execution_count": 16,
     "metadata": {},
     "output_type": "execute_result"
    }
   ],
   "source": [
    "#constraint 3\n",
    "model.addConstrs(quicksum(X[u,t] for u in V for t in range(1,(G1.GetShortPath(S,v)-G1.GetShortPath(u,v))+1) if t>=0 )>= Y[v]  for v in V)"
   ]
  },
  {
   "cell_type": "code",
   "execution_count": 17,
   "metadata": {},
   "outputs": [
    {
     "name": "stdout",
     "output_type": "stream",
     "text": [
      "Gurobi Optimizer version 9.1.1 build v9.1.1rc0 (win64)\n",
      "Thread count: 4 physical cores, 8 logical processors, using up to 8 threads\n",
      "Optimize a model with 18 rows, 70 columns and 142 nonzeros\n",
      "Model fingerprint: 0x3680cdad\n",
      "Variable types: 0 continuous, 70 integer (70 binary)\n",
      "Coefficient statistics:\n",
      "  Matrix range     [1e+00, 1e+00]\n",
      "  Objective range  [1e+00, 1e+00]\n",
      "  Bounds range     [1e+00, 1e+00]\n",
      "  RHS range        [1e+00, 1e+00]\n",
      "Found heuristic solution: objective -0.0000000\n",
      "Presolve removed 5 rows and 48 columns\n",
      "Presolve time: 0.00s\n",
      "Presolved: 13 rows, 22 columns, 48 nonzeros\n",
      "Found heuristic solution: objective 5.0000000\n",
      "Variable types: 0 continuous, 22 integer (22 binary)\n",
      "\n",
      "Root relaxation: objective 9.000000e+00, 11 iterations, 0.00 seconds\n",
      "\n",
      "    Nodes    |    Current Node    |     Objective Bounds      |     Work\n",
      " Expl Unexpl |  Obj  Depth IntInf | Incumbent    BestBd   Gap | It/Node Time\n",
      "\n",
      "*    0     0               0       9.0000000    9.00000  0.00%     -    0s\n",
      "\n",
      "Explored 0 nodes (11 simplex iterations) in 0.03 seconds\n",
      "Thread count was 8 (of 8 available processors)\n",
      "\n",
      "Solution count 3: 9 5 -0 \n",
      "\n",
      "Optimal solution found (tolerance 1.00e-04)\n",
      "Best objective 9.000000000000e+00, best bound 9.000000000000e+00, gap 0.0000%\n"
     ]
    }
   ],
   "source": [
    "model.optimize()"
   ]
  },
  {
   "cell_type": "code",
   "execution_count": 18,
   "metadata": {},
   "outputs": [
    {
     "name": "stdout",
     "output_type": "stream",
     "text": [
      "9.0\n",
      "X[4,3] \t 1.0\n",
      "X[5,4] \t 1.0\n",
      "X[9,2] \t 1.0\n",
      "X[11,1] \t 1.0\n",
      "Y[4] \t 1.0\n",
      "Y[5] \t 1.0\n",
      "Y[6] \t 1.0\n",
      "Y[9] \t 1.0\n",
      "Y[10] \t 1.0\n",
      "Y[11] \t 1.0\n",
      "Y[12] \t 1.0\n",
      "Y[13] \t 1.0\n",
      "Y[14] \t 1.0\n"
     ]
    }
   ],
   "source": [
    "print(model.ObjVal)\n",
    "for var in model.getVars():\n",
    "    if(var.x>0):\n",
    "        print(var.varName,'\\t', var.x)"
   ]
  },
  {
   "cell_type": "code",
   "execution_count": 19,
   "metadata": {},
   "outputs": [],
   "source": [
    "# m=Model(\"controlling air pollution\")\n",
    "# A = [1,2,3,4,5,6]\n",
    "# B = [8,10,7,6,11,9]\n",
    "# C = [12,9,25,20,17,13]\n",
    "# D = [35,42,18,31,56,49]\n",
    "# E = [37,53,28,24,29,20]\n",
    "# # x1=m.addVar(lb=0,ub=1,name=\"x1\")\n",
    "# # x2=m.addVar(lb=0,ub=1,name=\"x2\")\n",
    "# # x3=m.addVar(lb=0,ub=1,name=\"x3\")\n",
    "# # x4=m.addVar(lb=0,ub=1,name=\"x4\")\n",
    "# # x5=m.addVar(lb=0,ub=1,name=\"x5\")\n",
    "# # x6=m.addVar(lb=0,ub=1,name=\"x6\")\n",
    "# x = m.addVars([(a) for a in A],lb=0,ub=1,name=\"x\")\n",
    "# m.update()\n",
    "# m.setObjective(sum(x[a]*B[A.index(a)] for a in A),GRB.MINIMIZE)\n",
    "\n",
    "# m.addConstr(sum(x[a]*C[A.index(a)] for a in A)>=60,\"c0\")\n",
    "# m.addConstr(sum(x[a]*D[A.index(a)] for a in A)>=150,\"c1\")\n",
    "# m.addConstr(sum(x[a]*E[A.index(a)] for a in A)>=125,\"c2\")\n",
    "\n",
    "# m.optimize()\n",
    "# print(\"Obj:\",m.objVal)\n",
    "# for v in m.getVars():\n",
    "#     print(\"%s:%.3f\"%(v.varName,v.x))"
   ]
  },
  {
   "cell_type": "code",
   "execution_count": null,
   "metadata": {},
   "outputs": [],
   "source": []
  }
 ],
 "metadata": {
  "kernelspec": {
   "display_name": "Python 3",
   "language": "python",
   "name": "python3"
  },
  "language_info": {
   "codemirror_mode": {
    "name": "ipython",
    "version": 3
   },
   "file_extension": ".py",
   "mimetype": "text/x-python",
   "name": "python",
   "nbconvert_exporter": "python",
   "pygments_lexer": "ipython3",
   "version": "3.7.6"
  }
 },
 "nbformat": 4,
 "nbformat_minor": 4
}
