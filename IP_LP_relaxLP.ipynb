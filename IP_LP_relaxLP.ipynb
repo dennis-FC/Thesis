{
 "cells": [
  {
   "cell_type": "code",
   "execution_count": 1,
   "metadata": {},
   "outputs": [],
   "source": [
    "from gurobipy import *\n",
    "import snap\n",
    "from graphviz import Digraph\n",
    "import pandas as pd\n",
    "import numpy as np"
   ]
  },
  {
   "cell_type": "code",
   "execution_count": 2,
   "metadata": {},
   "outputs": [],
   "source": [
    "# G1 = snap.TUNGraph.New()\n",
    "# G1.AddNode(0)\n",
    "# G1.AddNode(1)\n",
    "# G1.AddNode(2)\n",
    "# G1.AddNode(3)\n",
    "# G1.AddNode(4)\n",
    "# G1.AddNode(5)\n",
    "# G1.AddNode(6)\n",
    "# G1.AddNode(7)\n",
    "# G1.AddNode(8)\n",
    "# G1.AddNode(9)\n",
    "# G1.AddNode(10)\n",
    "# G1.AddNode(11)\n",
    "# G1.AddNode(12)\n",
    "# G1.AddNode(13)\n",
    "# G1.AddNode(14)\n",
    "# G1.AddEdge(0,1)\n",
    "# G1.AddEdge(0,2)\n",
    "# G1.AddEdge(2,3)\n",
    "# G1.AddEdge(1,3)\n",
    "# G1.AddEdge(3,4)\n",
    "# G1.AddEdge(4,5)\n",
    "# G1.AddEdge(4,6)\n",
    "# G1.AddEdge(0,7)\n",
    "# G1.AddEdge(7,8)\n",
    "# G1.AddEdge(7,9)\n",
    "# G1.AddEdge(9,10)\n",
    "# G1.AddEdge(0,11)\n",
    "# G1.AddEdge(11,12)\n",
    "# G1.AddEdge(11,13)\n",
    "# G1.AddEdge(13,14)\n",
    "# G1"
   ]
  },
  {
   "cell_type": "code",
   "execution_count": 3,
   "metadata": {},
   "outputs": [],
   "source": [
    "# G1 = snap.GenRndGnm(snap.TUNGraph, 20, 50)\n",
    "# G1 = snap.LoadEdgeList(snap.TUNGraph, \"LastFM.txt\", 0, 1)\n",
    "#匯入圖\n",
    "G1 = snap.LoadEdgeList(snap.TUNGraph, \"graph.txt\", 0, 1)"
   ]
  },
  {
   "cell_type": "code",
   "execution_count": 4,
   "metadata": {},
   "outputs": [
    {
     "name": "stdout",
     "output_type": "stream",
     "text": [
      "lonely_node =  []\n"
     ]
    }
   ],
   "source": [
    "#刪除孤單的點\n",
    "lonely_node = []\n",
    "for NI in G1.Nodes():\n",
    "    if NI.GetOutDeg()==0:\n",
    "        lonely_node.append(NI.GetId())\n",
    "        G1.DelNode(NI.GetId())\n",
    "\n",
    "print(\"lonely_node = \",lonely_node)"
   ]
  },
  {
   "cell_type": "code",
   "execution_count": 5,
   "metadata": {},
   "outputs": [],
   "source": [
    "S = 1 #初始感染點(有四個要改)\n",
    "AllnodeID = []\n",
    "InfectednodeID = [S]\n",
    "V = [] #AllnodeID\\0(s) #vulnerablenodeID\n",
    "vaccinatednodeID = [] #vaccinated的node\n",
    "for NI in G1.Nodes():\n",
    "    AllnodeID.append(NI.GetId())\n",
    "    if(NI.GetId()!=S):\n",
    "        V.append(NI.GetId())"
   ]
  },
  {
   "cell_type": "code",
   "execution_count": 6,
   "metadata": {},
   "outputs": [],
   "source": [
    "# AllnodeID = [] #全部的node\n",
    "# InfectednodeID = [0]\n",
    "# vulnerablenodeID = []\n",
    "# vaccinatednodeID = [] #vaccinated的node\n",
    "# # inf_plus_vul_minus_zero = []\n",
    "# for NI in G1.Nodes():\n",
    "#     AllnodeID.append(NI.GetId())\n",
    "#     if(NI.GetId()!=0):\n",
    "#         vulnerablenodeID.append(NI.GetId())\n",
    "#     print(\"node: %d\" % NI.GetId())"
   ]
  },
  {
   "cell_type": "code",
   "execution_count": 7,
   "metadata": {},
   "outputs": [
    {
     "data": {
      "text/plain": [
       "5"
      ]
     },
     "execution_count": 7,
     "metadata": {},
     "output_type": "execute_result"
    }
   ],
   "source": [
    "layer = 0\n",
    "for NI in G1.Nodes():\n",
    "    if(G1.GetShortPath(NI.GetId(),S)>layer):\n",
    "        layer = G1.GetShortPath(NI.GetId(),S) \n",
    "layer"
   ]
  },
  {
   "cell_type": "markdown",
   "metadata": {},
   "source": [
    "# IP Programming"
   ]
  },
  {
   "cell_type": "code",
   "execution_count": 8,
   "metadata": {},
   "outputs": [
    {
     "name": "stdout",
     "output_type": "stream",
     "text": [
      "Academic license - for non-commercial use only - expires 2021-07-24\n",
      "Using license file C:\\Users\\user\\gurobi.lic\n"
     ]
    },
    {
     "ename": "KeyboardInterrupt",
     "evalue": "",
     "output_type": "error",
     "traceback": [
      "\u001b[1;31m---------------------------------------------------------------------------\u001b[0m",
      "\u001b[1;31mKeyboardInterrupt\u001b[0m                         Traceback (most recent call last)",
      "\u001b[1;32m<ipython-input-8-7e18601725fa>\u001b[0m in \u001b[0;36m<module>\u001b[1;34m\u001b[0m\n\u001b[0;32m     20\u001b[0m \u001b[1;31m#model.addConstrs(quicksum(X[u,t] for t in range(1,layer+1))<=1 for u in V)\u001b[0m\u001b[1;33m\u001b[0m\u001b[1;33m\u001b[0m\u001b[1;33m\u001b[0m\u001b[0m\n\u001b[0;32m     21\u001b[0m \u001b[1;31m#constraint 3\u001b[0m\u001b[1;33m\u001b[0m\u001b[1;33m\u001b[0m\u001b[1;33m\u001b[0m\u001b[0m\n\u001b[1;32m---> 22\u001b[1;33m \u001b[0mIP_model\u001b[0m\u001b[1;33m.\u001b[0m\u001b[0maddConstrs\u001b[0m\u001b[1;33m(\u001b[0m\u001b[0mquicksum\u001b[0m\u001b[1;33m(\u001b[0m\u001b[0mX\u001b[0m\u001b[1;33m[\u001b[0m\u001b[0mu\u001b[0m\u001b[1;33m,\u001b[0m\u001b[0mt\u001b[0m\u001b[1;33m]\u001b[0m \u001b[1;32mfor\u001b[0m \u001b[0mu\u001b[0m \u001b[1;32min\u001b[0m \u001b[0mV\u001b[0m \u001b[1;32mfor\u001b[0m \u001b[0mt\u001b[0m \u001b[1;32min\u001b[0m \u001b[0mrange\u001b[0m\u001b[1;33m(\u001b[0m\u001b[1;36m1\u001b[0m\u001b[1;33m,\u001b[0m\u001b[1;33m(\u001b[0m\u001b[0mG1\u001b[0m\u001b[1;33m.\u001b[0m\u001b[0mGetShortPath\u001b[0m\u001b[1;33m(\u001b[0m\u001b[0mS\u001b[0m\u001b[1;33m,\u001b[0m\u001b[0mv\u001b[0m\u001b[1;33m)\u001b[0m\u001b[1;33m-\u001b[0m\u001b[0mG1\u001b[0m\u001b[1;33m.\u001b[0m\u001b[0mGetShortPath\u001b[0m\u001b[1;33m(\u001b[0m\u001b[0mu\u001b[0m\u001b[1;33m,\u001b[0m\u001b[0mv\u001b[0m\u001b[1;33m)\u001b[0m\u001b[1;33m)\u001b[0m\u001b[1;33m+\u001b[0m\u001b[1;36m1\u001b[0m\u001b[1;33m)\u001b[0m \u001b[1;32mif\u001b[0m \u001b[0mt\u001b[0m\u001b[1;33m>=\u001b[0m\u001b[1;36m0\u001b[0m \u001b[1;33m)\u001b[0m\u001b[1;33m>=\u001b[0m \u001b[0mY\u001b[0m\u001b[1;33m[\u001b[0m\u001b[0mv\u001b[0m\u001b[1;33m]\u001b[0m  \u001b[1;32mfor\u001b[0m \u001b[0mv\u001b[0m \u001b[1;32min\u001b[0m \u001b[0mV\u001b[0m\u001b[1;33m)\u001b[0m\u001b[1;33m\u001b[0m\u001b[1;33m\u001b[0m\u001b[0m\n\u001b[0m\u001b[0;32m     23\u001b[0m \u001b[0mIP_model\u001b[0m\u001b[1;33m.\u001b[0m\u001b[0mupdate\u001b[0m\u001b[1;33m(\u001b[0m\u001b[1;33m)\u001b[0m\u001b[1;33m\u001b[0m\u001b[1;33m\u001b[0m\u001b[0m\n\u001b[0;32m     24\u001b[0m \u001b[0mIP_model\u001b[0m\u001b[1;33m.\u001b[0m\u001b[0moptimize\u001b[0m\u001b[1;33m(\u001b[0m\u001b[1;33m)\u001b[0m\u001b[1;33m\u001b[0m\u001b[1;33m\u001b[0m\u001b[0m\n",
      "\u001b[1;32msrc\\gurobipy\\model.pxi\u001b[0m in \u001b[0;36mgurobipy.Model.addConstrs\u001b[1;34m()\u001b[0m\n",
      "\u001b[1;32m<ipython-input-8-7e18601725fa>\u001b[0m in \u001b[0;36m<genexpr>\u001b[1;34m(.0)\u001b[0m\n\u001b[0;32m     20\u001b[0m \u001b[1;31m#model.addConstrs(quicksum(X[u,t] for t in range(1,layer+1))<=1 for u in V)\u001b[0m\u001b[1;33m\u001b[0m\u001b[1;33m\u001b[0m\u001b[1;33m\u001b[0m\u001b[0m\n\u001b[0;32m     21\u001b[0m \u001b[1;31m#constraint 3\u001b[0m\u001b[1;33m\u001b[0m\u001b[1;33m\u001b[0m\u001b[1;33m\u001b[0m\u001b[0m\n\u001b[1;32m---> 22\u001b[1;33m \u001b[0mIP_model\u001b[0m\u001b[1;33m.\u001b[0m\u001b[0maddConstrs\u001b[0m\u001b[1;33m(\u001b[0m\u001b[0mquicksum\u001b[0m\u001b[1;33m(\u001b[0m\u001b[0mX\u001b[0m\u001b[1;33m[\u001b[0m\u001b[0mu\u001b[0m\u001b[1;33m,\u001b[0m\u001b[0mt\u001b[0m\u001b[1;33m]\u001b[0m \u001b[1;32mfor\u001b[0m \u001b[0mu\u001b[0m \u001b[1;32min\u001b[0m \u001b[0mV\u001b[0m \u001b[1;32mfor\u001b[0m \u001b[0mt\u001b[0m \u001b[1;32min\u001b[0m \u001b[0mrange\u001b[0m\u001b[1;33m(\u001b[0m\u001b[1;36m1\u001b[0m\u001b[1;33m,\u001b[0m\u001b[1;33m(\u001b[0m\u001b[0mG1\u001b[0m\u001b[1;33m.\u001b[0m\u001b[0mGetShortPath\u001b[0m\u001b[1;33m(\u001b[0m\u001b[0mS\u001b[0m\u001b[1;33m,\u001b[0m\u001b[0mv\u001b[0m\u001b[1;33m)\u001b[0m\u001b[1;33m-\u001b[0m\u001b[0mG1\u001b[0m\u001b[1;33m.\u001b[0m\u001b[0mGetShortPath\u001b[0m\u001b[1;33m(\u001b[0m\u001b[0mu\u001b[0m\u001b[1;33m,\u001b[0m\u001b[0mv\u001b[0m\u001b[1;33m)\u001b[0m\u001b[1;33m)\u001b[0m\u001b[1;33m+\u001b[0m\u001b[1;36m1\u001b[0m\u001b[1;33m)\u001b[0m \u001b[1;32mif\u001b[0m \u001b[0mt\u001b[0m\u001b[1;33m>=\u001b[0m\u001b[1;36m0\u001b[0m \u001b[1;33m)\u001b[0m\u001b[1;33m>=\u001b[0m \u001b[0mY\u001b[0m\u001b[1;33m[\u001b[0m\u001b[0mv\u001b[0m\u001b[1;33m]\u001b[0m  \u001b[1;32mfor\u001b[0m \u001b[0mv\u001b[0m \u001b[1;32min\u001b[0m \u001b[0mV\u001b[0m\u001b[1;33m)\u001b[0m\u001b[1;33m\u001b[0m\u001b[1;33m\u001b[0m\u001b[0m\n\u001b[0m\u001b[0;32m     23\u001b[0m \u001b[0mIP_model\u001b[0m\u001b[1;33m.\u001b[0m\u001b[0mupdate\u001b[0m\u001b[1;33m(\u001b[0m\u001b[1;33m)\u001b[0m\u001b[1;33m\u001b[0m\u001b[1;33m\u001b[0m\u001b[0m\n\u001b[0;32m     24\u001b[0m \u001b[0mIP_model\u001b[0m\u001b[1;33m.\u001b[0m\u001b[0moptimize\u001b[0m\u001b[1;33m(\u001b[0m\u001b[1;33m)\u001b[0m\u001b[1;33m\u001b[0m\u001b[1;33m\u001b[0m\u001b[0m\n",
      "\u001b[1;32msrc\\gurobipy\\gurobi.pxi\u001b[0m in \u001b[0;36mgurobipy.quicksum\u001b[1;34m()\u001b[0m\n",
      "\u001b[1;32m<ipython-input-8-7e18601725fa>\u001b[0m in \u001b[0;36m<genexpr>\u001b[1;34m(.0)\u001b[0m\n\u001b[0;32m     20\u001b[0m \u001b[1;31m#model.addConstrs(quicksum(X[u,t] for t in range(1,layer+1))<=1 for u in V)\u001b[0m\u001b[1;33m\u001b[0m\u001b[1;33m\u001b[0m\u001b[1;33m\u001b[0m\u001b[0m\n\u001b[0;32m     21\u001b[0m \u001b[1;31m#constraint 3\u001b[0m\u001b[1;33m\u001b[0m\u001b[1;33m\u001b[0m\u001b[1;33m\u001b[0m\u001b[0m\n\u001b[1;32m---> 22\u001b[1;33m \u001b[0mIP_model\u001b[0m\u001b[1;33m.\u001b[0m\u001b[0maddConstrs\u001b[0m\u001b[1;33m(\u001b[0m\u001b[0mquicksum\u001b[0m\u001b[1;33m(\u001b[0m\u001b[0mX\u001b[0m\u001b[1;33m[\u001b[0m\u001b[0mu\u001b[0m\u001b[1;33m,\u001b[0m\u001b[0mt\u001b[0m\u001b[1;33m]\u001b[0m \u001b[1;32mfor\u001b[0m \u001b[0mu\u001b[0m \u001b[1;32min\u001b[0m \u001b[0mV\u001b[0m \u001b[1;32mfor\u001b[0m \u001b[0mt\u001b[0m \u001b[1;32min\u001b[0m \u001b[0mrange\u001b[0m\u001b[1;33m(\u001b[0m\u001b[1;36m1\u001b[0m\u001b[1;33m,\u001b[0m\u001b[1;33m(\u001b[0m\u001b[0mG1\u001b[0m\u001b[1;33m.\u001b[0m\u001b[0mGetShortPath\u001b[0m\u001b[1;33m(\u001b[0m\u001b[0mS\u001b[0m\u001b[1;33m,\u001b[0m\u001b[0mv\u001b[0m\u001b[1;33m)\u001b[0m\u001b[1;33m-\u001b[0m\u001b[0mG1\u001b[0m\u001b[1;33m.\u001b[0m\u001b[0mGetShortPath\u001b[0m\u001b[1;33m(\u001b[0m\u001b[0mu\u001b[0m\u001b[1;33m,\u001b[0m\u001b[0mv\u001b[0m\u001b[1;33m)\u001b[0m\u001b[1;33m)\u001b[0m\u001b[1;33m+\u001b[0m\u001b[1;36m1\u001b[0m\u001b[1;33m)\u001b[0m \u001b[1;32mif\u001b[0m \u001b[0mt\u001b[0m\u001b[1;33m>=\u001b[0m\u001b[1;36m0\u001b[0m \u001b[1;33m)\u001b[0m\u001b[1;33m>=\u001b[0m \u001b[0mY\u001b[0m\u001b[1;33m[\u001b[0m\u001b[0mv\u001b[0m\u001b[1;33m]\u001b[0m  \u001b[1;32mfor\u001b[0m \u001b[0mv\u001b[0m \u001b[1;32min\u001b[0m \u001b[0mV\u001b[0m\u001b[1;33m)\u001b[0m\u001b[1;33m\u001b[0m\u001b[1;33m\u001b[0m\u001b[0m\n\u001b[0m\u001b[0;32m     23\u001b[0m \u001b[0mIP_model\u001b[0m\u001b[1;33m.\u001b[0m\u001b[0mupdate\u001b[0m\u001b[1;33m(\u001b[0m\u001b[1;33m)\u001b[0m\u001b[1;33m\u001b[0m\u001b[1;33m\u001b[0m\u001b[0m\n\u001b[0;32m     24\u001b[0m \u001b[0mIP_model\u001b[0m\u001b[1;33m.\u001b[0m\u001b[0moptimize\u001b[0m\u001b[1;33m(\u001b[0m\u001b[1;33m)\u001b[0m\u001b[1;33m\u001b[0m\u001b[1;33m\u001b[0m\u001b[0m\n",
      "\u001b[1;32m~\\anaconda3\\lib\\site-packages\\snap\\snap.py\u001b[0m in \u001b[0;36mGetShortPath_classFn\u001b[1;34m(self, *args, **kwargs)\u001b[0m\n\u001b[0;32m  34978\u001b[0m \u001b[1;33m\u001b[0m\u001b[0m\n\u001b[0;32m  34979\u001b[0m \u001b[1;32mdef\u001b[0m \u001b[0mGetShortPath_classFn\u001b[0m\u001b[1;33m(\u001b[0m\u001b[0mself\u001b[0m\u001b[1;33m,\u001b[0m \u001b[1;33m*\u001b[0m\u001b[0margs\u001b[0m\u001b[1;33m,\u001b[0m \u001b[1;33m**\u001b[0m\u001b[0mkwargs\u001b[0m\u001b[1;33m)\u001b[0m\u001b[1;33m:\u001b[0m\u001b[1;33m\u001b[0m\u001b[1;33m\u001b[0m\u001b[0m\n\u001b[1;32m> 34980\u001b[1;33m     \u001b[1;32mreturn\u001b[0m \u001b[0mGetShortPath\u001b[0m\u001b[1;33m(\u001b[0m\u001b[0mself\u001b[0m\u001b[1;33m,\u001b[0m \u001b[1;33m*\u001b[0m\u001b[0margs\u001b[0m\u001b[1;33m,\u001b[0m \u001b[1;33m**\u001b[0m\u001b[0mkwargs\u001b[0m\u001b[1;33m)\u001b[0m\u001b[1;33m\u001b[0m\u001b[1;33m\u001b[0m\u001b[0m\n\u001b[0m\u001b[0;32m  34981\u001b[0m \u001b[0mPUNGraph\u001b[0m\u001b[1;33m.\u001b[0m\u001b[0mGetShortPath\u001b[0m \u001b[1;33m=\u001b[0m \u001b[0mGetShortPath_classFn\u001b[0m\u001b[1;33m\u001b[0m\u001b[1;33m\u001b[0m\u001b[0m\n\u001b[0;32m  34982\u001b[0m \u001b[0mPNGraph\u001b[0m\u001b[1;33m.\u001b[0m\u001b[0mGetShortPath\u001b[0m \u001b[1;33m=\u001b[0m \u001b[0mGetShortPath_classFn\u001b[0m\u001b[1;33m\u001b[0m\u001b[1;33m\u001b[0m\u001b[0m\n",
      "\u001b[1;31mKeyboardInterrupt\u001b[0m: "
     ]
    }
   ],
   "source": [
    "B = 1 #budget\n",
    "S = 1 #初始感染點\n",
    "#Create empty model\n",
    "IP_model = Model('IP Vaccination Strategy')\n",
    "\n",
    "#add variablies\n",
    "#S = model.addVars([(u,t) for u in V for t in range(1,layer+1)],vtype=GRB.BINARY, name=\"S\")\n",
    "X = IP_model.addVars([(u,t) for u in V for t in range(1,layer+1) ],vtype=GRB.BINARY, name=\"X\")\n",
    "Y = IP_model.addVars([(v) for v in V],vtype=GRB.BINARY, name=\"Y\")\n",
    "IP_model.update()\n",
    "#add objective function\n",
    "# obj = 0\n",
    "# for v in V:\n",
    "#     obj = obj+Y[v]\n",
    "IP_model.setObjective(quicksum(Y[v] for v in V) ,GRB.MAXIMIZE)\n",
    "\n",
    "#constraint 1\n",
    "IP_model.addConstrs(quicksum(X[u,t] for u in V)<=B for t in range(1,layer+1))\n",
    "#constraint 2\n",
    "#model.addConstrs(quicksum(X[u,t] for t in range(1,layer+1))<=1 for u in V) \n",
    "#constraint 3\n",
    "IP_model.addConstrs(quicksum(X[u,t] for u in V for t in range(1,(G1.GetShortPath(S,v)-G1.GetShortPath(u,v))+1) if t>=0 )>= Y[v]  for v in V)\n",
    "IP_model.update()\n",
    "IP_model.optimize()"
   ]
  },
  {
   "cell_type": "code",
   "execution_count": null,
   "metadata": {},
   "outputs": [],
   "source": [
    "print(\"IP Programming\")\n",
    "print(\"保護的個數=\",IP_model.ObjVal)\n",
    "for var in IP_model.getVars():\n",
    "    if(var.x>0):\n",
    "        print(var.varName,'\\t', var.x)"
   ]
  },
  {
   "cell_type": "markdown",
   "metadata": {},
   "source": [
    "# LP Programming"
   ]
  },
  {
   "cell_type": "code",
   "execution_count": null,
   "metadata": {},
   "outputs": [],
   "source": [
    "B = 1 #budget\n",
    "S = 1 #初始感染點\n",
    "#Create empty model\n",
    "LP_model = Model('LP Vaccination Strategy')\n",
    "\n",
    "#add variablies\n",
    "#S = model.addVars([(u,t) for u in V for t in range(1,layer+1)],vtype=GRB.BINARY, name=\"S\")\n",
    "X = LP_model.addVars([(u,t) for u in V for t in range(1,layer+1) ],lb=0,ub=1, name=\"X\")\n",
    "Y = LP_model.addVars([(v) for v in V],lb=0,ub=1, name=\"Y\")\n",
    "LP_model.update()\n",
    "#add objective function\n",
    "# obj = 0\n",
    "# for v in V:\n",
    "#     obj = obj+Y[v]\n",
    "LP_model.setObjective(quicksum(Y[v] for v in V) ,GRB.MAXIMIZE)\n",
    "\n",
    "#constraint 1\n",
    "LP_model.addConstrs(quicksum(X[u,t] for u in V)<=B for t in range(1,layer+1))\n",
    "#constraint 3\n",
    "LP_model.addConstrs(quicksum(X[u,t] for u in V for t in range(1,(G1.GetShortPath(S,v)-G1.GetShortPath(u,v))+1) if t>=0 )>= Y[v]  for v in V)\n",
    "LP_model.update()\n",
    "LP_model.optimize()"
   ]
  },
  {
   "cell_type": "code",
   "execution_count": null,
   "metadata": {},
   "outputs": [],
   "source": [
    "THE_X = [] #取出X[,]\n",
    "X_Pro = [] #取出X[,]的機率\n",
    "print(\"LP Programming\")\n",
    "print(\"保護的個數=\",LP_model.ObjVal)\n",
    "for var in LP_model.getVars():\n",
    "    if(var.x>0):\n",
    "        if(var.varName[0]==\"X\"):\n",
    "            THE_X.append(var.varName) \n",
    "            X_Pro.append(var.x)\n",
    "        print(var.varName,'\\t', var.x)"
   ]
  },
  {
   "cell_type": "markdown",
   "metadata": {},
   "source": [
    "# LP Rounding"
   ]
  },
  {
   "cell_type": "code",
   "execution_count": null,
   "metadata": {},
   "outputs": [],
   "source": [
    "def copy_graph(graph):\n",
    "    tmpfile = '.copy.bin'\n",
    "\n",
    "    # Saving to tmp file\n",
    "    FOut = snap.TFOut(tmpfile)\n",
    "    graph.Save(FOut)\n",
    "    FOut.Flush()\n",
    "\n",
    "    # Loading to new graph\n",
    "    FIn = snap.TFIn(tmpfile)\n",
    "    graphtype = type(graph)\n",
    "    new_graph = graphtype.New()\n",
    "    new_graph = new_graph.Load(FIn)\n",
    "\n",
    "    return new_graph"
   ]
  },
  {
   "cell_type": "code",
   "execution_count": null,
   "metadata": {},
   "outputs": [],
   "source": [
    "# import random\n",
    "# print(\"LP Rounding\")\n",
    "# for i in range(50):\n",
    "#     print(\"round=\",i)\n",
    "#     random_strategy_choose = [] #新策略(格式很亂)\n",
    "#     new_strategy = []#新策略(格式清理過)\n",
    "#     for i in range(1,layer+1): #以每一個時間抓出來算機率\n",
    "#         XX = [] \n",
    "#         XX_Pro = []\n",
    "\n",
    "#         for x in range(len(THE_X)):\n",
    "#             if THE_X[x][-2]==str(i):\n",
    "#                 XX.append(THE_X[x])\n",
    "#                 XX_Pro.append(X_Pro[x])\n",
    "#         rdc = random.choices(XX, weights=XX_Pro) #這次的策略\n",
    "#         random_strategy_choose.append(rdc)\n",
    "# #         print( \"選擇的是:\",rdc )\n",
    "#     for i in range(len(random_strategy_choose)):#清理格式\n",
    "#         new_strategy.append(random_strategy_choose[i][0][2:-3])\n",
    "\n",
    "#     new_strategy = list(map(int, new_strategy)) #str-->int\n",
    "#     print(\"選擇的策略=\",new_strategy)\n",
    "#     ########################################################################開始注射策略\n",
    "#     G_temp = copy_graph(G1)\n",
    "#     S = 0 #初始感染點\n",
    "#     temp_vaccinated = []\n",
    "#     temp_infected = [0]\n",
    "#     temp_vulnerable = V.copy()    \n",
    "#     for i in range(len(new_strategy)): #開始依序注射\n",
    "#         temp_saved = []\n",
    "#         b = temp_vulnerable.copy()\n",
    "#         if(new_strategy[i] not in temp_vulnerable): #如果要注射的點已經被保護了(從圖中刪除)\n",
    "#             for n in range(len(b)):\n",
    "#                  if(G_temp.GetShortPath(S,b[n])==i+1):#病毒開始擴散\n",
    "#                     temp_infected.append(b[n])\n",
    "#                     temp_vulnerable.remove(b[n])\n",
    "\n",
    "#             continue\n",
    "\n",
    "#         for k in range(len(temp_vulnerable)):#每一個點計算是否有被注射的點保護\n",
    "\n",
    "#             r  = i+1\n",
    "\n",
    "#             if(r<=(G_temp.GetShortPath(S,temp_vulnerable[k])-G_temp.GetShortPath(new_strategy[i],temp_vulnerable[k]))):\n",
    "#                 temp_saved.append(temp_vulnerable[k])\n",
    "\n",
    "#         for m in range(len(temp_saved)): #調整位置\n",
    "#             temp_vaccinated.append(temp_saved[m])\n",
    "#             temp_vulnerable.remove(temp_saved[m])\n",
    "#             G_temp.DelNode(temp_saved[m])\n",
    "\n",
    "#         a = temp_vulnerable.copy()\n",
    "#         for n in range(len(a)):#病毒開始擴散\n",
    "#             if(G_temp.GetShortPath(S,a[n])==i+1):\n",
    "#                 temp_infected.append(a[n])\n",
    "#                 temp_vulnerable.remove(a[n])\n",
    "\n",
    "            \n",
    "#     print(\"保護個數=\",len(temp_vaccinated))\n",
    "# #     print(\"被保護的點=\",temp_vaccinated)\n",
    "            "
   ]
  },
  {
   "cell_type": "code",
   "execution_count": null,
   "metadata": {},
   "outputs": [],
   "source": [
    "import random\n",
    "timer = 10\n",
    "count = 0\n",
    "print(\"LP Rounding\")\n",
    "for i in range(timer):\n",
    "    print(\"round=\",i)\n",
    "    random_strategy_choose = [] #新策略(格式很亂)\n",
    "    new_strategy = []#新策略(格式清理過)\n",
    "    for i in range(1,layer+1): #以每一個時間抓出來算機率\n",
    "        XX = [] \n",
    "        XX_Pro = []\n",
    "\n",
    "        for x in range(len(THE_X)):\n",
    "            if THE_X[x][-4]==\",\":\n",
    "                if THE_X[x][-3:-1]==str(i):\n",
    "                    XX.append(THE_X[x])\n",
    "                    XX_Pro.append(X_Pro[x])\n",
    "            elif THE_X[x][-2]==str(i):\n",
    "                XX.append(THE_X[x])\n",
    "                XX_Pro.append(X_Pro[x])\n",
    "        rdc = random.choices(XX, weights=XX_Pro) #這次的策略\n",
    "        random_strategy_choose.append(rdc)\n",
    "#         print( \"選擇的是:\",rdc )\n",
    "    for i in range(len(random_strategy_choose)):#清理格式\n",
    "        if(random_strategy_choose[i][0][-4]==\",\"):\n",
    "            new_strategy.append(random_strategy_choose[i][0][2:-4])\n",
    "        else:\n",
    "            new_strategy.append(random_strategy_choose[i][0][2:-3])\n",
    "\n",
    "    new_strategy = list(map(int, new_strategy)) #str-->int\n",
    "    print(\"選擇的策略=\",new_strategy)\n",
    "    ########################################################################開始注射策略\n",
    "    G_temp = copy_graph(G1)\n",
    "    S = 1 #初始感染點\n",
    "    temp_vaccinated = []\n",
    "    temp_infected = [S]\n",
    "    temp_vulnerable = V.copy()    \n",
    "    for i in range(len(new_strategy)): #開始依序注射\n",
    "        temp_saved = []\n",
    "        b = temp_vulnerable.copy()\n",
    "        if(new_strategy[i] not in temp_vulnerable): #如果要注射的點已經被保護了(從圖中刪除)\n",
    "            for n in range(len(b)):\n",
    "                 if(G_temp.GetShortPath(S,b[n])==i+1):#病毒開始擴散\n",
    "                    temp_infected.append(b[n])\n",
    "                    temp_vulnerable.remove(b[n])\n",
    "\n",
    "            continue\n",
    "\n",
    "        for k in range(len(temp_vulnerable)):#每一個點計算是否有被注射的點保護\n",
    "\n",
    "            r  = i+1\n",
    "\n",
    "            if(r<=(G_temp.GetShortPath(S,temp_vulnerable[k])-G_temp.GetShortPath(new_strategy[i],temp_vulnerable[k]))):\n",
    "                temp_saved.append(temp_vulnerable[k])\n",
    "\n",
    "        for m in range(len(temp_saved)): #調整位置\n",
    "            temp_vaccinated.append(temp_saved[m])\n",
    "            temp_vulnerable.remove(temp_saved[m])\n",
    "            G_temp.DelNode(temp_saved[m])\n",
    "\n",
    "        a = temp_vulnerable.copy()\n",
    "        for n in range(len(a)):#病毒開始擴散\n",
    "            if(G_temp.GetShortPath(S,a[n])==i+1):\n",
    "                temp_infected.append(a[n])\n",
    "                temp_vulnerable.remove(a[n])\n",
    "\n",
    "            \n",
    "    print(\"保護個數=\",len(temp_vaccinated))\n",
    "    count = count+int(len(temp_vaccinated))\n",
    "#     print(\"被保護的點=\",temp_vaccinated)\n",
    "\n",
    "print(\"平均被保護個數=\",count/timer)"
   ]
  }
 ],
 "metadata": {
  "kernelspec": {
   "display_name": "Python 3",
   "language": "python",
   "name": "python3"
  },
  "language_info": {
   "codemirror_mode": {
    "name": "ipython",
    "version": 3
   },
   "file_extension": ".py",
   "mimetype": "text/x-python",
   "name": "python",
   "nbconvert_exporter": "python",
   "pygments_lexer": "ipython3",
   "version": "3.7.6"
  }
 },
 "nbformat": 4,
 "nbformat_minor": 4
}
